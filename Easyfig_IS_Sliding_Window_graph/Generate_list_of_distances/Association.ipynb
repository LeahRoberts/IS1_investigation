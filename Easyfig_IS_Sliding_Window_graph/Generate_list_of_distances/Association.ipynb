{
 "metadata": {
  "name": ""
 },
 "nbformat": 3,
 "nbformat_minor": 0,
 "worksheets": [
  {
   "cells": [
    {
     "cell_type": "code",
     "collapsed": false,
     "input": [
      "\"\"\"\n",
      "Testing that recombination regions in ST131 are associated with MGE\n",
      "Mitchell Stanton-Cook & Nouri Ben Zakour\n",
      "\n",
      "Requires:\n",
      "    fastinterval (https://github.com/jamescasbon/fastinterval) \n",
      "\"\"\"\n",
      "\n",
      "# Required imports/libraries\n",
      "from fastinterval import Genome, Interval\n",
      "from pylab import *\n",
      "import matplotlib.pyplot as plt\n",
      "%pylab --no-import-all inline\n"
     ],
     "language": "python",
     "metadata": {},
     "outputs": [
      {
       "output_type": "stream",
       "stream": "stdout",
       "text": [
        "Populating the interactive namespace from numpy and matplotlib\n"
       ]
      }
     ],
     "prompt_number": 9
    },
    {
     "cell_type": "code",
     "collapsed": false,
     "input": [
      "# Empty lists to store input intervals and other (plot) data\n",
      "MGE_intervals, RECOMB_intervals = [], []\n",
      "mge_start, rec_start = [], []\n",
      "\n",
      "# Load the genome into fastinterval\n",
      "genome = Genome('EcSE15.fa')\n"
     ],
     "language": "python",
     "metadata": {},
     "outputs": [],
     "prompt_number": 10
    },
    {
     "cell_type": "code",
     "collapsed": false,
     "input": [
      "# Read in MGE positions. Format: ident,start,end\n",
      "# WARNING using Scott's MGE definition\n",
      "with open('MGE_SE15_reduced.csv') as mge_in:\n",
      "    for e in mge_in:\n",
      "        # Get the data for each line (ignoring ident)\n",
      "        _, m_s, m_e = e.strip().split(',')\n",
      "        m_s, m_e = int(m_s), int(m_e)\n",
      "        # Start should always be less than end\n",
      "        assert m_s < m_e\n",
      "        # Store the start position (we'll plot it)\n",
      "        mge_start.append(m_s)\n",
      "        # Store the inverval\n",
      "        MGE_intervals.append(genome.interval(m_s, m_e))\n",
      "print \"Read in %i MGE intervals\" % (len(MGE_intervals))\n"
     ],
     "language": "python",
     "metadata": {},
     "outputs": [
      {
       "output_type": "stream",
       "stream": "stdout",
       "text": [
        "Read in 13 MGE intervals\n"
       ]
      }
     ],
     "prompt_number": 11
    },
    {
     "cell_type": "code",
     "collapsed": false,
     "input": [
      "# Read in RECOMB positions. Format: ident,start,end\n",
      "with open('REC_SE15.csv') as rec_in:\n",
      "    for e in rec_in:\n",
      "        # Get the data for each line (ignoring ident)\n",
      "        _ ,r_s, r_e = e.strip().split(',')\n",
      "        r_s, r_e = int(r_s), int(r_e)\n",
      "        # Start should always be less than end\n",
      "        assert r_s < r_e\n",
      "        rec_start.append(r_s)\n",
      "        RECOMB_intervals.append(genome.interval(r_s, r_e))\n",
      "print \"Read in %i RECOMB intervals\\n\" % (len(RECOMB_intervals))\n"
     ],
     "language": "python",
     "metadata": {},
     "outputs": [
      {
       "output_type": "stream",
       "stream": "stdout",
       "text": [
        "Read in 137 RECOMB intervals\n",
        "\n"
       ]
      }
     ],
     "prompt_number": 12
    },
    {
     "cell_type": "code",
     "collapsed": false,
     "input": [
      "# Build some 'scatter plots' for the start of the two feature types\n",
      "Figure()\n",
      "# Fixed y height\n",
      "dummy_ym, dummy_yr = [], []\n",
      "for i in range(0, len(mge_start)):\n",
      "    dummy_ym.append(1)\n",
      "\n",
      "for i in range(0, len(rec_start)):\n",
      "    dummy_yr.append(2)\n",
      "\n",
      "# Look at distribution of elements\n",
      "ax = pylab.subplot(111)\n",
      "ax.scatter(mge_start, dummy_ym, c='b')\n",
      "ax.scatter(rec_start, dummy_yr, c='r')\n",
      "xlabel('Position')\n",
      "ylabel('')\n",
      "title('MGE (blue) and RECOMB (red) start positions')\n",
      "plt.xlim(0, 5000000)\n",
      "show()\n"
     ],
     "language": "python",
     "metadata": {},
     "outputs": [
      {
       "metadata": {},
       "output_type": "display_data",
       "png": "[encoded data removed]",
       "text": [
        "<matplotlib.figure.Figure at 0x10532ead0>"
       ]
      }
     ],
     "prompt_number": 13
    },
    {
     "cell_type": "code",
     "collapsed": false,
     "input": [
      "# How many MGE are within 10 kb of recomb?\n",
      "\n",
      "thold = 10000\n",
      "passed = 0\n",
      "\n",
      "#Calculate distances\n",
      "with open(\"Association.matrix\", 'w') as fout:\n",
      "    for i in range(0, len(MGE_intervals)):\n",
      "        ds = []\n",
      "        tmp =''\n",
      "        for j in range(0, len(RECOMB_intervals)):\n",
      "            cur = MGE_intervals[i].distance(RECOMB_intervals[j])\n",
      "            tmp = tmp+str(cur)+\",\"\n",
      "            ds.append(cur)\n",
      "        # OK - some cases we may have overlaps (0 distance....)\n",
      "        ds = set(ds)\n",
      "        if min(ds) <= thold:\n",
      "            passed = passed+1\n",
      "        fout.write(tmp[0:-1]+\"\\n\")\n",
      "\n",
      "print \"For a given MGE, the likelihood that it is <=10 kB of recombination site is %f percent \" % (passed/float(len(MGE_intervals))*100)\n",
      "        "
     ],
     "language": "python",
     "metadata": {},
     "outputs": [
      {
       "output_type": "stream",
       "stream": "stdout",
       "text": [
        "For a given MGE, the likelihood that it is <=10 kB of recombination site is 84.615385 percent \n"
       ]
      }
     ],
     "prompt_number": 14
    },
    {
     "cell_type": "code",
     "collapsed": false,
     "input": [
      "# What about the converse. Recombination sites within 10 Kb of MGE\n",
      "\n",
      "thold = 10000\n",
      "passed = 0\n",
      "\n",
      "#Calculate distances\n",
      "for i in range(0, len(RECOMB_intervals)):\n",
      "    ds = []\n",
      "    tmp =''\n",
      "    for j in range(0, len(MGE_intervals)):\n",
      "        cur = RECOMB_intervals[i].distance(MGE_intervals[j])\n",
      "        ds.append(cur)\n",
      "    # OK - some cases we may have overlaps (0 distance....)\n",
      "    ds = set(ds)\n",
      "    if min(ds) <= thold:\n",
      "        passed = passed+1\n",
      "\n",
      "print \"For a given recombination site, the likelihood that it is <=10 kB of a MGE site is %f percent \" % (passed/float(len(RECOMB_intervals))*100)\n"
     ],
     "language": "python",
     "metadata": {},
     "outputs": [
      {
       "output_type": "stream",
       "stream": "stdout",
       "text": [
        "For a given recombination site, the likelihood that it is <=10 kB of a MGE site is 19.708029 percent \n"
       ]
      }
     ],
     "prompt_number": 15
    },
    {
     "cell_type": "code",
     "collapsed": false,
     "input": [
      "saved = []\n",
      "overlap_counter =0\n",
      "#Calculate distances\n",
      "for i in range(0, len(RECOMB_intervals)):\n",
      "    ds = []\n",
      "    for j in range(0, len(MGE_intervals)):\n",
      "        ds.append(RECOMB_intervals[i].distance(MGE_intervals[j]))\n",
      "    # OK - some cases we may have overlaps (0 distance....)\n",
      "    ds = set(ds)\n",
      "    # if min(ds) == 0:\n",
      "    if min(ds) < 0:    \n",
      "        # Skip overlapped distances.\n",
      "        #tmp = sorted(ds)[1]\n",
      "        # These may need to be removed.\n",
      "        #print \" Element %i. Distance is 0 (overlap). New distance is %i\" % ((i+1), tmp)\n",
      "        #saved.append(tmp)\n",
      "        overlap_counter = overlap_counter+1\n",
      "    else:\n",
      "        saved.append(min(ds))\n",
      "\n",
      "print \"Disregarded %i sites where a overlap between a recombinant region and MGE exists\" % (overlap_counter)\n",
      "y = sorted(saved)\n",
      "#y = (saved)\n",
      "x = range(0,len(y))\n",
      "\n",
      "\n",
      "xlabel('Index')\n",
      "ylabel('Distance')\n",
      "title('Minimum MGE->Recombination site')\n",
      "bar(x, y, align=\"center\", width=0.1, alpha=0.9)\n",
      "show()\n",
      "\n",
      "print \"Minimum distances (ordered inc) are: \"+str(y)"
     ],
     "language": "python",
     "metadata": {},
     "outputs": [
      {
       "output_type": "stream",
       "stream": "stdout",
       "text": [
        "Disregarded 0 sites where a overlap between a recombinant region and MGE exists\n"
       ]
      },
      {
       "metadata": {},
       "output_type": "display_data",
       "png": "[encoded data removed]",
       "text": [
        "<matplotlib.figure.Figure at 0x105788f50>"
       ]
      },
      {
       "output_type": "stream",
       "stream": "stdout",
       "text": [
        "Minimum distances (ordered inc) are: [0, 0, 0, 0, 0, 0, 0, 0, 0, 0, 0, 0, 0, 0, 0, 0, 0, 0, 0, 0, 0, 0, 608, 3972, 7059, 7223, 7446, 10852, 13563, 15622, 18452, 21563, 27646, 28024, 28321, 34496, 35337, 37459, 40005, 45859, 52655, 59191, 59899, 60464, 60935, 61193, 61483, 61936, 64254, 64811, 68988, 70444, 71957, 72281, 72490, 73425, 74168, 74610, 78027, 85017, 85393, 87883, 91789, 95449, 100516, 104602, 107151, 111287, 113694, 122394, 126899, 128304, 132009, 135613, 136389, 139466, 141463, 141773, 142401, 150238, 152115, 154479, 155598, 156624, 162262, 163400, 171177, 178056, 183559, 194760, 200720, 201703, 205767, 211032, 211592, 212373, 218966, 221465, 225967, 228755, 237573, 242053, 247666, 248507, 253884, 255604, 263169, 267865, 282022, 288138, 291897, 296565, 297727, 300438, 309913, 311311, 338173, 359850, 367958, 391627, 393183, 440807, 443420, 450664, 533200, 538831, 547676, 555150, 573752, 723773, 741573, 776904, 827352, 838469, 855618, 894530, 901514]\n"
       ]
      }
     ],
     "prompt_number": 16
    },
    {
     "cell_type": "code",
     "collapsed": false,
     "input": [],
     "language": "python",
     "metadata": {},
     "outputs": []
    }
   ],
   "metadata": {}
  }
 ]
}